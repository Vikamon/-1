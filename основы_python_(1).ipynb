{
  "nbformat": 4,
  "nbformat_minor": 0,
  "metadata": {
    "colab": {
      "provenance": [],
      "include_colab_link": true
    },
    "kernelspec": {
      "name": "python3",
      "display_name": "Python 3"
    },
    "language_info": {
      "name": "python"
    }
  },
  "cells": [
    {
      "cell_type": "markdown",
      "metadata": {
        "id": "view-in-github",
        "colab_type": "text"
      },
      "source": [
        "<a href=\"https://colab.research.google.com/github/Vikamon/laba1/blob/main/%D0%BE%D1%81%D0%BD%D0%BE%D0%B2%D1%8B_python_(1).ipynb\" target=\"_parent\"><img src=\"https://colab.research.google.com/assets/colab-badge.svg\" alt=\"Open In Colab\"/></a>"
      ]
    },
    {
      "cell_type": "markdown",
      "source": [
        "#Задача 1\n",
        "Написать функцию на вход которой подается строка, состоящая из латинских букв.\n",
        "Функция должна вернуть количество гласных букв (a, e, i, o, u) в этой строке. Написать тесты для кода"
      ],
      "metadata": {
        "id": "M-DGa20PaHnu"
      }
    },
    {
      "cell_type": "code",
      "source": [
        "def task (line):\n",
        "  count=0\n",
        "  for i in line:\n",
        "      if i in ('e','u','i','o','a'):\n",
        "          count+=1\n",
        "  return count\n",
        "\n",
        "#тесты\n",
        "print(task ('sfghl'))\n",
        "print(task ('ssuufasd'))\n",
        "print(task ('sfgh2456l'))\n",
        "#ответы 0 3 0."
      ],
      "metadata": {
        "id": "XvX8X_JJ6PCb",
        "colab": {
          "base_uri": "https://localhost:8080/"
        },
        "outputId": "e919cad8-9624-4668-87ce-b7e07fe9fbf0"
      },
      "execution_count": null,
      "outputs": [
        {
          "output_type": "stream",
          "name": "stdout",
          "text": [
            "0\n",
            "3\n",
            "0\n"
          ]
        }
      ]
    },
    {
      "cell_type": "markdown",
      "source": [
        "# Задача 2\n",
        "Написать функцию на вход, которой подается строка. Функция должна вернуть true, если\n",
        "каждый символ в строке встречается только 1 раз, иначе должна вернуть false. Написать тесты для кода"
      ],
      "metadata": {
        "id": "t2ClV_Y0bbr6"
      }
    },
    {
      "cell_type": "code",
      "source": [
        "def task (line):\n",
        "  one_chars = set()\n",
        "  for char in line:\n",
        "    if char in one_chars:\n",
        "      return False\n",
        "    else:\n",
        "      one_chars.add(char)\n",
        "  return True\n",
        "\n",
        "#тесты\n",
        "print(task ('sfghl'))\n",
        "print(task ('ssuufasd'))\n",
        "print(task ('sfgh2456l'))\n"
      ],
      "metadata": {
        "id": "FppbECao6VIz",
        "colab": {
          "base_uri": "https://localhost:8080/"
        },
        "outputId": "06ded3a1-a309-4354-a3ed-b5ca849120ee"
      },
      "execution_count": null,
      "outputs": [
        {
          "output_type": "stream",
          "name": "stdout",
          "text": [
            "True\n",
            "False\n",
            "True\n"
          ]
        }
      ]
    },
    {
      "cell_type": "markdown",
      "source": [
        "# Задача 3\n",
        "Написать функцию, которая принимает положительное число и возвращает количество\n",
        "бит равных 1 в этом числе. Написать тесты для кода"
      ],
      "metadata": {
        "id": "udRiIK1cdt6E"
      }
    },
    {
      "cell_type": "code",
      "source": [
        "def task (x):\n",
        "  count = 0\n",
        "  while x > 0:\n",
        "    count=count+x%2\n",
        "    x=x//2\n",
        "  return count\n",
        "\n",
        "#тесты\n",
        "print(task (00))\n",
        "print(task (1000))\n",
        "print(task (8541))"
      ],
      "metadata": {
        "id": "6tkfDJRz6dp_",
        "colab": {
          "base_uri": "https://localhost:8080/"
        },
        "outputId": "4f90fe07-f37a-45ad-d949-b04f7a03a078"
      },
      "execution_count": null,
      "outputs": [
        {
          "output_type": "stream",
          "name": "stdout",
          "text": [
            "0\n",
            "6\n",
            "7\n"
          ]
        }
      ]
    },
    {
      "cell_type": "markdown",
      "source": [
        "# Задача 4\n",
        "Написать функцию, которая принимает положительное число. Функция должна вернуть то,\n",
        "сколько раз необходимо перемножать цифры числа или результат перемножения, чтобы\n",
        "получилось число состоящее из одной цифры.\n",
        "Например, для входного числа:\n",
        "· 39 функция должна вернуть 3, так как 3*9=27 => 2*7=14 => 1*4=4\n",
        "· 4 функция должна вернуть 0, так как число уже состоит из одной цифры\n",
        "· 999 функция должна вернуть 4, так как 9*9*9=729 => 7*2*9=126 => 1*2*6=12 =>\n",
        "1*2=2. Написать тесты для кода"
      ],
      "metadata": {
        "id": "26dDUz-Ae17N"
      }
    },
    {
      "cell_type": "code",
      "source": [
        "def magic(n):\n",
        "  count=0\n",
        "  fi=1\n",
        "  while n>9:\n",
        "      count+=1\n",
        "      nu=list(map(int,(str(n))))\n",
        "      for i in nu:\n",
        "          fi*=int(i)\n",
        "      n=fi\n",
        "      fi=1\n",
        "  return count\n",
        "\n",
        "#тесты\n",
        "print(magic(0))\n",
        "print(magic(39))\n",
        "print(magic(999))"
      ],
      "metadata": {
        "id": "BH1A_Mgi6i4G",
        "colab": {
          "base_uri": "https://localhost:8080/"
        },
        "outputId": "eca1ab0a-d1f6-4a03-93bf-a8c378cbef7e"
      },
      "execution_count": null,
      "outputs": [
        {
          "output_type": "stream",
          "name": "stdout",
          "text": [
            "4\n",
            "3\n",
            "0\n"
          ]
        }
      ]
    },
    {
      "cell_type": "markdown",
      "source": [
        "# Задача 5\n",
        "Написать функцию, которая принимает два целочисленных вектора одинаковой длины и\n",
        "возвращает среднеквадратическое отклонение двух векторов. Написать тесты для кода"
      ],
      "metadata": {
        "id": "0nS-kIa8g8vd"
      }
    },
    {
      "cell_type": "code",
      "source": [
        "def mse(pred, true):\n",
        "    assert len(pred) == len(true),\n",
        "    N = len(pred)\n",
        "    sqr = 0\n",
        "    mean = 0\n",
        "    for i in range(N):\n",
        "        sqr += (pred[i] - true[i])**2\n",
        "    mean = sqr/N\n",
        "    deviation = mean**0.5\n",
        "    return(int(deviation))\n",
        "\n",
        "#тесты\n",
        "print(mse([1, 2, 3, 4], [2, 3, 4, 5]))"
      ],
      "metadata": {
        "id": "8iphx4LM6xbx",
        "colab": {
          "base_uri": "https://localhost:8080/"
        },
        "outputId": "e3b6ce26-e500-47a2-8500-4cf81782e7a1"
      },
      "execution_count": null,
      "outputs": [
        {
          "output_type": "stream",
          "name": "stdout",
          "text": [
            "1\n"
          ]
        }
      ]
    },
    {
      "cell_type": "markdown",
      "source": [
        "# Задача 6\n",
        "Написать функцию, принимающая целое положительное число. Функция должна вернуть\n",
        "строку вида “(n1**p1)(n2**p2)…(nk**pk)” представляющая разложение числа на простые\n",
        "множители (если pi == 1, то выводить только ni).\n",
        "Например, для числа 86240 функция должна вернуть “(2**5)(5)(7**2)(11)”. Написать тесты для кода"
      ],
      "metadata": {
        "id": "vpIPKL439zkw"
      }
    },
    {
      "cell_type": "code",
      "source": [
        "def Factorize(Num):\n",
        "  answer=[]\n",
        "  delit=round(Num**0.5)\n",
        "  for i in range(2,delit+1):\n",
        "      count=0\n",
        "      while Num%i==0:\n",
        "          count+=1\n",
        "          Num/=i\n",
        "      if count>1:\n",
        "          answer.append('('+str(i)+'**'+str(count)+')')\n",
        "      elif count==1:\n",
        "          answer.append('('+str(i)+')')\n",
        "  print(*answer,sep='')\n",
        "\n",
        "Factorize(86240)\n",
        "Factorize(21456874213753)\n"
      ],
      "metadata": {
        "id": "pFebmcZk94Jw",
        "colab": {
          "base_uri": "https://localhost:8080/"
        },
        "outputId": "ba3c2a36-4850-4989-fd3c-e4965d42d159"
      },
      "execution_count": null,
      "outputs": [
        {
          "output_type": "stream",
          "name": "stdout",
          "text": [
            "(2**5)(5)(7**2)(11)\n",
            "(11)(23)(124213)(682777)\n"
          ]
        }
      ]
    },
    {
      "cell_type": "markdown",
      "source": [
        "# Задача 7\n",
        "Написать функцию, принимающая целое число n, задающее количество кубиков. Функция\n",
        "должна определить, можно ли из данного кол-ва кубиков построить пирамиду, то есть\n",
        "можно ли представить число n как 1^2+2^2+3^2+…+k^2. Если можно, то функция должна\n",
        "вернуть k, иначе строку “It is impossible”. Написать тесты для кода"
      ],
      "metadata": {
        "id": "ps2s0BudX7A2"
      }
    },
    {
      "cell_type": "code",
      "source": [
        "def Pyramid(number):\n",
        "    assert number >= 0,\n",
        "    k = 0\n",
        "    while number >= 1:\n",
        "        k += 1\n",
        "        number -= k**2\n",
        "    if number == 0 and k > 0:\n",
        "        return k\n",
        "    else:\n",
        "        return('It is impossible')\n",
        "\n",
        "#тесты\n",
        "print(Pyramid(0))\n",
        "print(Pyramid(1))\n",
        "print(Pyramid(2))\n",
        "print(Pyramid(14))"
      ],
      "metadata": {
        "id": "3YPjEXxhX_YT",
        "colab": {
          "base_uri": "https://localhost:8080/"
        },
        "outputId": "43b9eebd-aba5-4aa5-8cd4-e9238897c362"
      },
      "execution_count": null,
      "outputs": [
        {
          "output_type": "stream",
          "name": "stdout",
          "text": [
            "It is impossible\n",
            "1\n",
            "It is impossible\n",
            "3\n"
          ]
        }
      ]
    },
    {
      "cell_type": "markdown",
      "source": [
        "# Задача 8\n",
        "Функция принимает на вход положительное число и определяет является ли оно сбалансированным, т.е. сумма цифр до средних равна сумме цифр после. Средними в случае нечетного числа цифр считать одну цифру, в случае четного - две средних. Написать тесты для кода"
      ],
      "metadata": {
        "id": "KeKgmIdAQMEJ"
      }
    },
    {
      "cell_type": "code",
      "source": [
        "def IsBalanced(num):\n",
        "    assert num >= 0, 'INPUT MUST BE POSITIVE'\n",
        "    num = str(num)\n",
        "    sum = 0\n",
        "    if len(num) % 2 == 0:\n",
        "        middle = int(len(num) / 2) - 1\n",
        "    else:\n",
        "        middle = int(len(num) / 2) + 1\n",
        "    for i in range(middle):\n",
        "        sum += int(num[i]) - int(num[-i-1])\n",
        "    if sum == 0:\n",
        "        return True\n",
        "    else:\n",
        "        return False\n",
        "\n",
        "#тесты\n",
        "print(IsBalanced(1))\n",
        "print(IsBalanced(148941))\n",
        "print(IsBalanced(8452))\n",
        "print(IsBalanced(10))\n"
      ],
      "metadata": {
        "id": "gMAAqtqlQrZt",
        "colab": {
          "base_uri": "https://localhost:8080/"
        },
        "outputId": "c1759d25-6cbd-4052-ac14-957aa35e56a0"
      },
      "execution_count": null,
      "outputs": [
        {
          "output_type": "stream",
          "name": "stdout",
          "text": [
            "True\n",
            "True\n",
            "False\n",
            "True\n"
          ]
        }
      ]
    }
  ]
}