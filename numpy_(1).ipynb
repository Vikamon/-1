{
  "nbformat": 4,
  "nbformat_minor": 0,
  "metadata": {
    "colab": {
      "provenance": [],
      "include_colab_link": true
    },
    "kernelspec": {
      "name": "python3",
      "display_name": "Python 3"
    },
    "language_info": {
      "name": "python"
    }
  },
  "cells": [
    {
      "cell_type": "markdown",
      "metadata": {
        "id": "view-in-github",
        "colab_type": "text"
      },
      "source": [
        "<a href=\"https://colab.research.google.com/github/Vikamon/laba1/blob/main/numpy_(1).ipynb\" target=\"_parent\"><img src=\"https://colab.research.google.com/assets/colab-badge.svg\" alt=\"Open In Colab\"/></a>"
      ]
    },
    {
      "cell_type": "markdown",
      "source": [
        "<h1>Импорт библиотек"
      ],
      "metadata": {
        "id": "vC84e9kzyxPy"
      }
    },
    {
      "cell_type": "code",
      "execution_count": null,
      "metadata": {
        "id": "cgKeNegmQG5S"
      },
      "outputs": [],
      "source": [
        "import numpy as np\n",
        "import matplotlib.pyplot as plt"
      ]
    },
    {
      "cell_type": "markdown",
      "source": [
        "<h1>Задача 1. Дан набор из $p$ матриц размерностью $(n, n)$ и $p$ векторов размерностью $(n, 1)$, найти сумму произведений матриц на векторы. Написать тесты для кода"
      ],
      "metadata": {
        "id": "qFM9uVU2x4Ls"
      }
    },
    {
      "cell_type": "code",
      "source": [
        "import numpy as np\n",
        "X = np.arange(1,10).reshape(3,3) #задаём матрицу\n",
        "V = np.array([1,2,3]) #задаём вектор\n",
        "def sum_prod(X, V):\n",
        "    answer = 0 # создаём переменную где будет храниться ответ (сумма)\n",
        "    for i in range(2): # делаем повтор на колличество умножений\n",
        "        h=np.dot(X, V) # умножаем матрицу на вектор\n",
        "        answer+=h #суммируем умноженные матрицы на вектора\n",
        "    return answer\n",
        "#тесты\n",
        "print(sum_prod(X, V))\n",
        "print(sum_prod(X*X, V))\n",
        "print(sum_prod(X, V*V))"
      ],
      "metadata": {
        "id": "IAbUvEiYyWFF"
      },
      "execution_count": null,
      "outputs": []
    },
    {
      "cell_type": "markdown",
      "source": [
        "<h1>Задача 2. Дана матрица M, напишите функцию, которая бинаризует матрицу по некоторому threshold (то есть, все значения большие threshold становятся равными 1, иначе 0). Напишите тесты для кода"
      ],
      "metadata": {
        "id": "TKwPG4fIy2w4"
      }
    },
    {
      "cell_type": "code",
      "source": [
        "import numpy as np\n",
        "Matrix = np.random.rand(4, 4) #создаём массив с раномными значениями 4 на 4\n",
        "Matrix = np.round(Matrix, 2) #округляем до двух знаков после запятой\n",
        "\n",
        "def binarize(answer, threshold=0.5):\n",
        "    answer = np.where(answer > threshold, 1, 0) #если число больше 0,5 то он будет 1, иначе 0\n",
        "    return answer\n",
        "\n",
        "print(Matrix) #начальная матрица\n",
        "print(binarize(Matrix)) #полученная матрица"
      ],
      "metadata": {
        "id": "KQDNMgsjRNH7"
      },
      "execution_count": null,
      "outputs": []
    },
    {
      "cell_type": "markdown",
      "source": [
        "<h1>Задача 3. Напишите функцию, которая возвращает уникальные элементы из каждой строки матрицы. Напишите такую же функцию, но для столбцов. Напишите тесты для кода"
      ],
      "metadata": {
        "id": "IY5L-h-7zWhN"
      }
    },
    {
      "cell_type": "code",
      "source": [
        "mat = np.random.rand(4, 4)*10 #создаём матрицу рандомную 4 на 4\n",
        "mat = np.round(mat)#округляю матрицу\n",
        "\n",
        "def unique_rows(mat):\n",
        "    result = []\n",
        "    for row in mat: #пробегаемся по матрице\n",
        "        result.append(list(set(row))) #оставляем уникальные числа превращаем в лист и добавляем в массив\n",
        "    return result\n",
        "\n",
        "def unique_columns(mat):\n",
        "    mat = np.transpose(mat) #переворачиваем или транспонируем матрицу\n",
        "    result = []\n",
        "    for row in mat: #пробегаемся по матрице\n",
        "        result.append(list(set(row))) #сортируем и добавляем значения в массив\n",
        "    return result\n",
        "\n",
        "print(mat)\n",
        "print(unique_rows(mat))\n",
        "print(unique_columns(mat))"
      ],
      "metadata": {
        "id": "-8dEZhR0SBC-"
      },
      "execution_count": null,
      "outputs": []
    },
    {
      "cell_type": "markdown",
      "source": [
        "<h1>Задача 4. Напишите функцию, которая заполняет матрицу с размерами $(m, n)$ случайными числами, распределенными по нормальному закону. Затем считает мат. ожидание и дисперсию для каждого из столбцов и строк, а также строит для каждой строки и столбца гистограмму значений (использовать функцию hist из модуля matplotlib.plot)"
      ],
      "metadata": {
        "id": "roYAlo4Jz-lH"
      }
    },
    {
      "cell_type": "code",
      "source": [
        "import random\n",
        "from random import randint\n",
        "import numpy as np\n",
        "import matplotlib.pyplot as plt\n",
        "\n",
        "m = random.randint(10,20)\n",
        "n = random.randint(1,10)\n",
        "print(m,n)\n",
        "col_means, row_means, col_vars, row_vars, matrix = normal_matrix(m, n)\n",
        "\n",
        "def normal_matrix(m, n):\n",
        "    mat = np.random.randn(m, n)\n",
        "    mean_col = np.mean(mat, axis=0)\n",
        "    mean_row = np.mean(mat, axis=1)\n",
        "    var_col = np.var(mat, axis=0)\n",
        "    var_row = np.var(mat, axis=1)\n",
        "    for i in range(m):\n",
        "        plt.figure()\n",
        "        plt.subplot(1, 2, 1)\n",
        "        plt.hist(mat[i, :], bins = n, color='r', edgecolor='black')\n",
        "        plt.title(f'Row {i+1}')\n",
        "        plt.show()\n",
        "    for i in range(n):\n",
        "        plt.subplot(1, 2, 2)\n",
        "        plt.hist(mat[:, i], bins = m, color='b', edgecolor='black')\n",
        "        plt.title(f'Column {i+1}')\n",
        "        plt.show()\n",
        "    return mean_col, mean_row, var_col, var_row, mat\n",
        "\n",
        "# Rows and Columns\n",
        "\n",
        "print(\"Matrix:\")\n",
        "print(matrix.round(2))\n",
        "print(\"Mean for columns:\")\n",
        "print(col_means.round(2))\n",
        "print(\"Mean for rows:\")\n",
        "print(row_means.round(2))\n",
        "print(\"Variable for columns:\")\n",
        "print(col_vars.round(2))\n",
        "print(\"Variable for rows:\")\n",
        "print(row_vars.round(2))"
      ],
      "metadata": {
        "id": "nZK_71hMSQzv"
      },
      "execution_count": null,
      "outputs": []
    },
    {
      "cell_type": "markdown",
      "source": [
        "<h1>Задача 5. Напишите функцию, которая заполняет матрицу $(m, n)$ в шахматном порядке заданными числами $a$ и $b$. Напишите тесты для кода"
      ],
      "metadata": {
        "id": "BDyATNdM0dJ2"
      }
    },
    {
      "cell_type": "code",
      "source": [
        "def chess(m, n, a, b):\n",
        "    # creating chess matrix of 0 and 1\n",
        "    mat = np.indices((m, n)).sum(axis=0) % 2\n",
        "    # combining 2 chess matricies with a and b\n",
        "    mat = mat*b - (mat-1)*a\n",
        "    return mat\n",
        "\n",
        "print(chess(5, 5, 3, 7))\n",
        "Test_matrix = np.array([[3, 7, 3, 7, 3],\n",
        "                        [7, 3, 7, 3, 7],\n",
        "                        [3, 7, 3, 7, 3],\n",
        "                        [7, 3, 7, 3, 7],\n",
        "                        [3, 7, 3, 7, 3]])\n",
        "assert np.array_equal(Test_matrix, chess(5, 5, 3, 7)), \"TEST FAILED\""
      ],
      "metadata": {
        "id": "RWNJYWQGecS6"
      },
      "execution_count": null,
      "outputs": []
    },
    {
      "cell_type": "markdown",
      "source": [
        "<h1>Задача 6. Напишите функцию, которая отрисовывает прямоугольник с заданными размерами (a, b) на изображении размера (m, n), цвет фона задайте в схеме RGB, как и цвет прямоугольника. Цвета также должны быть параметрами функции. Напишите аналогичную функцию но для овала с полуосями a и b. Напишите тесты для кода.\n",
        "Примечание: уравнение эллипса (границы овала) можно записать как:\n",
        "<h1>$\\frac{(x-x_0)^2}{a^2}+\\frac{(y-y_0)^2}{b^2}=1$"
      ],
      "metadata": {
        "id": "-ymXLtTN0vB6"
      }
    },
    {
      "cell_type": "code",
      "source": [
        "import matplotlib.pyplot as plt\n",
        "import matplotlib.patches as patches\n",
        "\n",
        "def draw_rectangle(a, b, m, n, rectangle_color, background_color):\n",
        "    fig = plt.figure()\n",
        "    ax = fig.add_subplot(111)\n",
        "    background = patches.Rectangle((0, 0), m, n, color = background_color)\n",
        "    rect = patches.Rectangle(((m - a)/2, (n-b)/2), a, b, color = rectangle_color)\n",
        "    ax.add_patch(background)\n",
        "    ax.add_patch(rect)\n",
        "    plt.xlim(0, m)\n",
        "    plt.ylim(0, n)\n",
        "    plt.show()\n",
        "\n",
        "def draw_ellipse(a, b, m, n, ellipse_color, background_color):\n",
        "    a *= 2\n",
        "    b *= 2\n",
        "    fig = plt.figure()\n",
        "    ax = fig.add_subplot(111)\n",
        "    background = patches.Rectangle((0, 0), m, n, color = background_color)\n",
        "    eli = patches.Ellipse((m/2, n/2), a, b, color = ellipse_color)\n",
        "    ax.add_patch(background)\n",
        "    ax.add_patch(eli)\n",
        "    plt.xlim(0, m)\n",
        "    plt.ylim(0, n)\n",
        "    plt.show()\n",
        "\n",
        "# Test data\n",
        "a = 40\n",
        "b = 90\n",
        "m = 100\n",
        "n = 300\n",
        "rectangle_color = '#00aacc'\n",
        "ellipse_color = '#0f0f0f'\n",
        "background_color = '#d26000'\n",
        "draw_rectangle(a, b, m, n, rectangle_color, background_color)\n",
        "draw_ellipse(a, b, m, n, ellipse_color, background_color)"
      ],
      "metadata": {
        "id": "sNfl1t_kfOF4"
      },
      "execution_count": null,
      "outputs": []
    },
    {
      "cell_type": "markdown",
      "source": [
        "<h1>Задача 7. Дан некий временной ряд. Для данного ряда нужно найти его: математическое ожидание, дисперсию, СКО, найти все локальные максимумы и минимумы (локальный максимум - это точка, которая больше своих соседних точек, а локальный минимум - это точка, которая меньше своих соседей), а также вычислить для данного ряда другой ряд, получаемый методом скользящего среднего с размером окна $p$.\n",
        "<h1>Примечание: метод скользящего среднего подразумевает нахождение среднего из подмножетсва ряда размером $p$"
      ],
      "metadata": {
        "id": "S82c38oz244H"
      }
    },
    {
      "cell_type": "code",
      "source": [
        "import numpy as np\n",
        "def time_series_analysis(ts, p):\n",
        "    mean = np.mean(ts)\n",
        "    variance = np.var(ts)\n",
        "    deviation = np.std(ts)\n",
        "    local_min = []\n",
        "    local_max = []\n",
        "    for i in range(1, len(ts) - 1):\n",
        "        if ts[i] < ts[i - 1] and ts[i] < ts[i + 1]:\n",
        "            local_min.append(ts[i])\n",
        "        if ts[i] > ts[i - 1] and ts[i] > ts[i + 1]:\n",
        "            local_max.append(ts[i])\n",
        "    smooth_ts = np.convolve(ts, np.ones(p), mode='valid') / p\n",
        "    return mean, variance, deviation, local_min, local_max, smooth_ts\n",
        "\n",
        "# Пример временного ряда\n",
        "Series = np.array([2, 4, 5, 6, 5, 1, 7, 3, 7, 9])\n",
        "p = 3\n",
        "mean, variance, deviation, local_max, local_min, smoothed_series = time_series_analysis(Series, p)\n",
        "print(\"Mean:\", mean)\n",
        "print(\"Variance:\", variance)\n",
        "print(\"Standard deviation:\", deviation)\n",
        "print(\"Local maximums:\", local_max)\n",
        "print(\"Local minimums:\", local_min)\n",
        "print(\"Smoothed series:\", smoothed_series)"
      ],
      "metadata": {
        "id": "Zb9mIVge5MMt"
      },
      "execution_count": null,
      "outputs": []
    },
    {
      "cell_type": "markdown",
      "source": [
        "<h1> Задача 8. Дан некоторый вектор с целочисленными метками классов, напишите функцию, которая выполняет one-hot-encoding для данного вектора\n",
        "<h1> One-hot-encoding - представление, в котором на месте метки некоторого класса стоит 1, в остальных позициях стоит 0. Например для вектора [0, 2, 3, 0] one-hot-encoding выглядит как: [[1, 0, 0, 0], [0, 0, 1, 0], [0, 0, 0, 1], [1, 0, 0, 0]]"
      ],
      "metadata": {
        "id": "jPkylmOX5O9n"
      }
    },
    {
      "cell_type": "code",
      "source": [
        "import numpy as np\n",
        "def one_hot_encode(data):\n",
        "    labels = len(data)\n",
        "    array = np.zeros((labels, labels), dtype=int)\n",
        "    for i, label in enumerate(data):\n",
        "        array[i, label] = 1\n",
        "    return array.tolist()\n",
        "\n",
        "data_example = [0, 2, 3, 0]\n",
        "Test_array = [[1, 0, 0, 0],\n",
        "              [0, 0, 1, 0],\n",
        "              [0, 0, 0, 1],\n",
        "              [1, 0, 0, 0]]\n",
        "encoded = one_hot_encode(data_example)\n",
        "print(encoded)\n",
        "assert Test_array == encoded, \"TEST FAILED\""
      ],
      "metadata": {
        "id": "Y-jlnZvw56lD"
      },
      "execution_count": null,
      "outputs": []
    }
  ]
}